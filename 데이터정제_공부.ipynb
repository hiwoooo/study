{
 "cells": [
  {
   "cell_type": "code",
   "execution_count": 8,
   "metadata": {},
   "outputs": [],
   "source": [
    "import pandas as pd\n",
    "import re"
   ]
  },
  {
   "cell_type": "code",
   "execution_count": 16,
   "metadata": {},
   "outputs": [
    {
     "data": {
      "text/html": [
       "<div>\n",
       "<style scoped>\n",
       "    .dataframe tbody tr th:only-of-type {\n",
       "        vertical-align: middle;\n",
       "    }\n",
       "\n",
       "    .dataframe tbody tr th {\n",
       "        vertical-align: top;\n",
       "    }\n",
       "\n",
       "    .dataframe thead th {\n",
       "        text-align: right;\n",
       "    }\n",
       "</style>\n",
       "<table border=\"1\" class=\"dataframe\">\n",
       "  <thead>\n",
       "    <tr style=\"text-align: right;\">\n",
       "      <th></th>\n",
       "      <th>name</th>\n",
       "      <th>ingre</th>\n",
       "    </tr>\n",
       "  </thead>\n",
       "  <tbody>\n",
       "    <tr>\n",
       "      <th>0</th>\n",
       "      <td>sample1</td>\n",
       "      <td>Active Ingredients: Padimate (0.8% W/W), Oxybe...</td>\n",
       "    </tr>\n",
       "    <tr>\n",
       "      <th>1</th>\n",
       "      <td>sample2</td>\n",
       "      <td>c14-22 alcohols; polymethyl methacrylate; cet...</td>\n",
       "    </tr>\n",
       "  </tbody>\n",
       "</table>\n",
       "</div>"
      ],
      "text/plain": [
       "      name                                              ingre\n",
       "0  sample1  Active Ingredients: Padimate (0.8% W/W), Oxybe...\n",
       "1  sample2   c14-22 alcohols; polymethyl methacrylate; cet..."
      ]
     },
     "execution_count": 16,
     "metadata": {},
     "output_type": "execute_result"
    }
   ],
   "source": [
    "df=pd.DataFrame([['sample1','Active Ingredients: Padimate (0.8% W/W), Oxybenzone (2.4% w/w), Petrolatum (30.2% W/W)'],\n",
    "        ['sample2', ' c14-22 alcohols; polymethyl methacrylate; cetearyl alcohol; aloe arborescens leaf extract (1;100 ppm); di potassium glycyrrhizate']],columns=['name', 'ingre'])\n",
    "df"
   ]
  },
  {
   "cell_type": "markdown",
   "metadata": {},
   "source": [
    "# 데이터 정제\n",
    "()안에 특정 키워드 포함 시, () 전체 삭제\n",
    "- 정규표현식\n",
    "  - 괄호 검색 \\\\(, \\\\)\n",
    "  - [^)] : )제외한 모든 문자\n",
    "  - '*' : 0개 이상"
   ]
  },
  {
   "cell_type": "code",
   "execution_count": 17,
   "metadata": {},
   "outputs": [
    {
     "data": {
      "text/plain": [
       "array(['Active Ingredients: Padimate , Oxybenzone , Petrolatum',\n",
       "       'c14-22 alcohols; polymethyl methacrylate; cetearyl alcohol; aloe arborescens leaf extract ; di potassium glycyrrhizate'],\n",
       "      dtype=object)"
      ]
     },
     "execution_count": 17,
     "metadata": {},
     "output_type": "execute_result"
    }
   ],
   "source": [
    "ARR_WORD_TO_REMOVE=[\"%\", \"ppm\"]\n",
    "def cleanse(v):\n",
    "    for word in ARR_WORD_TO_REMOVE:\n",
    "        v = re.sub(f'\\([^)]*{word}*[^)]\\)', '', v)\n",
    "    v = v.strip()\n",
    "    return v\n",
    "df['ingre']=df['ingre'].apply(cleanse)\n",
    "df.ingre.values"
   ]
  },
  {
   "cell_type": "code",
   "execution_count": 45,
   "metadata": {},
   "outputs": [
    {
     "data": {
      "text/html": [
       "<div>\n",
       "<style scoped>\n",
       "    .dataframe tbody tr th:only-of-type {\n",
       "        vertical-align: middle;\n",
       "    }\n",
       "\n",
       "    .dataframe tbody tr th {\n",
       "        vertical-align: top;\n",
       "    }\n",
       "\n",
       "    .dataframe thead th {\n",
       "        text-align: right;\n",
       "    }\n",
       "</style>\n",
       "<table border=\"1\" class=\"dataframe\">\n",
       "  <thead>\n",
       "    <tr style=\"text-align: right;\">\n",
       "      <th></th>\n",
       "      <th>name</th>\n",
       "      <th>color</th>\n",
       "    </tr>\n",
       "  </thead>\n",
       "  <tbody>\n",
       "    <tr>\n",
       "      <th>0</th>\n",
       "      <td>sample1</td>\n",
       "      <td>['25N1(품절)']</td>\n",
       "    </tr>\n",
       "    <tr>\n",
       "      <th>1</th>\n",
       "      <td>sample2</td>\n",
       "      <td>['17C1', '17N1', '21C1', '21N1(품절)', '21W1', '...</td>\n",
       "    </tr>\n",
       "    <tr>\n",
       "      <th>2</th>\n",
       "      <td>sample3</td>\n",
       "      <td>['1호(품절)', '2호 (남은수량 297)']</td>\n",
       "    </tr>\n",
       "    <tr>\n",
       "      <th>3</th>\n",
       "      <td>sample4</td>\n",
       "      <td>['1호 (남은수량 291)', '2호 (남은수량 289)']</td>\n",
       "    </tr>\n",
       "  </tbody>\n",
       "</table>\n",
       "</div>"
      ],
      "text/plain": [
       "      name                                              color\n",
       "0  sample1                                       ['25N1(품절)']\n",
       "1  sample2  ['17C1', '17N1', '21C1', '21N1(품절)', '21W1', '...\n",
       "2  sample3                        ['1호(품절)', '2호 (남은수량 297)']\n",
       "3  sample4                 ['1호 (남은수량 291)', '2호 (남은수량 289)']"
      ]
     },
     "execution_count": 45,
     "metadata": {},
     "output_type": "execute_result"
    }
   ],
   "source": [
    "df2=pd.DataFrame([['sample1',\"['25N1(품절)']\"],\n",
    "    [\"sample2\",\"['17C1', '17N1', '21C1', '21N1(품절)', '21W1', '23N1', '25N1']\"],\n",
    "    [\"sample3\",\"['1호(품절)', '2호 (남은수량 297)']\"],\n",
    "    [\"sample4\",\"['1호 (남은수량 291)', '2호 (남은수량 289)']\"]], columns=[\"name\", \"color\"])\n",
    "df2"
   ]
  },
  {
   "cell_type": "markdown",
   "metadata": {},
   "source": [
    "# 색상 정제\n",
    "- 색상1; 색상2; 색상3 으로 수정\n",
    "- ()안의 품절, 수량 등 삭제\n",
    "  "
   ]
  },
  {
   "cell_type": "code",
   "execution_count": 46,
   "metadata": {},
   "outputs": [
    {
     "data": {
      "text/html": [
       "<div>\n",
       "<style scoped>\n",
       "    .dataframe tbody tr th:only-of-type {\n",
       "        vertical-align: middle;\n",
       "    }\n",
       "\n",
       "    .dataframe tbody tr th {\n",
       "        vertical-align: top;\n",
       "    }\n",
       "\n",
       "    .dataframe thead th {\n",
       "        text-align: right;\n",
       "    }\n",
       "</style>\n",
       "<table border=\"1\" class=\"dataframe\">\n",
       "  <thead>\n",
       "    <tr style=\"text-align: right;\">\n",
       "      <th></th>\n",
       "      <th>name</th>\n",
       "      <th>color</th>\n",
       "    </tr>\n",
       "  </thead>\n",
       "  <tbody>\n",
       "    <tr>\n",
       "      <th>0</th>\n",
       "      <td>sample1</td>\n",
       "      <td>['25N1']</td>\n",
       "    </tr>\n",
       "    <tr>\n",
       "      <th>1</th>\n",
       "      <td>sample2</td>\n",
       "      <td>['17C1', '17N1', '21C1', '21N1', '21W1', '23N1...</td>\n",
       "    </tr>\n",
       "    <tr>\n",
       "      <th>2</th>\n",
       "      <td>sample3</td>\n",
       "      <td>['1호', '2호 (남은수량 297)']</td>\n",
       "    </tr>\n",
       "    <tr>\n",
       "      <th>3</th>\n",
       "      <td>sample4</td>\n",
       "      <td>['1호 (남은수량 291)', '2호 (남은수량 289)']</td>\n",
       "    </tr>\n",
       "  </tbody>\n",
       "</table>\n",
       "</div>"
      ],
      "text/plain": [
       "      name                                              color\n",
       "0  sample1                                           ['25N1']\n",
       "1  sample2  ['17C1', '17N1', '21C1', '21N1', '21W1', '23N1...\n",
       "2  sample3                            ['1호', '2호 (남은수량 297)']\n",
       "3  sample4                 ['1호 (남은수량 291)', '2호 (남은수량 289)']"
      ]
     },
     "execution_count": 46,
     "metadata": {},
     "output_type": "execute_result"
    }
   ],
   "source": [
    "ARR_WORD_TO_REMOVE=[\"수량\", \"품절\"]\n",
    "def cleanse2(v):\n",
    "    for word in ARR_WORD_TO_REMOVE:\n",
    "        v = re.sub(f'\\([^)]*{word}*\\)', '', v)\n",
    "    v = v.strip()\n",
    "    return v\n",
    "df2['color']=df2['color'].apply(cleanse2)\n",
    "df2"
   ]
  },
  {
   "cell_type": "code",
   "execution_count": null,
   "metadata": {},
   "outputs": [],
   "source": []
  }
 ],
 "metadata": {
  "kernelspec": {
   "display_name": "Python 3.10.1 64-bit",
   "language": "python",
   "name": "python3"
  },
  "language_info": {
   "codemirror_mode": {
    "name": "ipython",
    "version": 3
   },
   "file_extension": ".py",
   "mimetype": "text/x-python",
   "name": "python",
   "nbconvert_exporter": "python",
   "pygments_lexer": "ipython3",
   "version": "3.10.1"
  },
  "orig_nbformat": 4,
  "vscode": {
   "interpreter": {
    "hash": "27f6fea6f47ae512550f0b8facdbd035a93e1dd89633f7bf2dd00a2502c71d0d"
   }
  }
 },
 "nbformat": 4,
 "nbformat_minor": 2
}
